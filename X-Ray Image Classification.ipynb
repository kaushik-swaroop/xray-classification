{
 "cells": [
  {
   "cell_type": "markdown",
   "metadata": {},
   "source": [
    "### Importing the libraries"
   ]
  },
  {
   "cell_type": "code",
   "execution_count": 1,
   "metadata": {},
   "outputs": [
    {
     "name": "stderr",
     "output_type": "stream",
     "text": [
      "Using TensorFlow backend.\n"
     ]
    }
   ],
   "source": [
    "import tensorflow as tf\n",
    "from keras.preprocessing.image import ImageDataGenerator"
   ]
  },
  {
   "cell_type": "code",
   "execution_count": 2,
   "metadata": {},
   "outputs": [
    {
     "data": {
      "text/plain": [
       "'2.1.0'"
      ]
     },
     "execution_count": 2,
     "metadata": {},
     "output_type": "execute_result"
    }
   ],
   "source": [
    "tf.__version__"
   ]
  },
  {
   "cell_type": "markdown",
   "metadata": {},
   "source": [
    "### Generating Images and creating Train Set"
   ]
  },
  {
   "cell_type": "code",
   "execution_count": 3,
   "metadata": {},
   "outputs": [
    {
     "name": "stdout",
     "output_type": "stream",
     "text": [
      "Found 5216 images belonging to 2 classes.\n"
     ]
    }
   ],
   "source": [
    "train_datagen = ImageDataGenerator(\n",
    "        rescale=1./255,\n",
    "        shear_range=0.2,\n",
    "        zoom_range=0.2,\n",
    "        horizontal_flip=True)\n",
    "train_set = train_datagen.flow_from_directory(\n",
    "        r'S:\\Kaggle\\Image classifcation\\chest_xray\\train',\n",
    "        target_size=(64, 64),\n",
    "        batch_size=32,\n",
    "        class_mode='binary')"
   ]
  },
  {
   "cell_type": "markdown",
   "metadata": {},
   "source": [
    "### Generating Images and creating Test Set"
   ]
  },
  {
   "cell_type": "code",
   "execution_count": 4,
   "metadata": {},
   "outputs": [
    {
     "name": "stdout",
     "output_type": "stream",
     "text": [
      "Found 624 images belonging to 2 classes.\n"
     ]
    }
   ],
   "source": [
    "test_datagen = ImageDataGenerator(rescale=1./255)\n",
    "test_set = test_datagen.flow_from_directory(\n",
    "        r'S:\\Kaggle\\Image classifcation\\chest_xray\\test',\n",
    "        target_size=(64, 64),\n",
    "        batch_size=32,\n",
    "        class_mode='binary')"
   ]
  },
  {
   "cell_type": "markdown",
   "metadata": {},
   "source": [
    "### Initialising the CNN"
   ]
  },
  {
   "cell_type": "code",
   "execution_count": 5,
   "metadata": {},
   "outputs": [],
   "source": [
    "cnn = tf.keras.models.Sequential()"
   ]
  },
  {
   "cell_type": "markdown",
   "metadata": {},
   "source": [
    "### Step 1 - Convolution"
   ]
  },
  {
   "cell_type": "code",
   "execution_count": 6,
   "metadata": {},
   "outputs": [],
   "source": [
    "cnn.add(tf.keras.layers.Conv2D(filters=32,kernel_size=3,activation='relu',input_shape=[64,64,3]))"
   ]
  },
  {
   "cell_type": "markdown",
   "metadata": {},
   "source": [
    "### Step 2 - Pooling"
   ]
  },
  {
   "cell_type": "code",
   "execution_count": 7,
   "metadata": {},
   "outputs": [],
   "source": [
    "cnn.add(tf.keras.layers.MaxPool2D(pool_size=2,strides=2))"
   ]
  },
  {
   "cell_type": "markdown",
   "metadata": {},
   "source": [
    "### Adding a second convolutional layer"
   ]
  },
  {
   "cell_type": "code",
   "execution_count": 8,
   "metadata": {},
   "outputs": [],
   "source": [
    "cnn.add(tf.keras.layers.Conv2D(filters=32,kernel_size=3,activation='relu'))\n",
    "cnn.add(tf.keras.layers.MaxPool2D(pool_size=2,strides=2))"
   ]
  },
  {
   "cell_type": "markdown",
   "metadata": {},
   "source": [
    "### Step 3 - Flattening"
   ]
  },
  {
   "cell_type": "code",
   "execution_count": 9,
   "metadata": {},
   "outputs": [],
   "source": [
    "cnn.add(tf.keras.layers.Flatten())"
   ]
  },
  {
   "cell_type": "markdown",
   "metadata": {},
   "source": [
    "### Step 4 - Full Connection"
   ]
  },
  {
   "cell_type": "code",
   "execution_count": 10,
   "metadata": {},
   "outputs": [],
   "source": [
    "cnn.add(tf.keras.layers.Dense(units=128,activation='relu'))"
   ]
  },
  {
   "cell_type": "markdown",
   "metadata": {},
   "source": [
    "### Step 5 - Output Layer"
   ]
  },
  {
   "cell_type": "code",
   "execution_count": 11,
   "metadata": {},
   "outputs": [],
   "source": [
    "cnn.add(tf.keras.layers.Dense(units=1,activation='sigmoid'))"
   ]
  },
  {
   "cell_type": "markdown",
   "metadata": {},
   "source": [
    "### Compiling the CNN"
   ]
  },
  {
   "cell_type": "code",
   "execution_count": 12,
   "metadata": {},
   "outputs": [],
   "source": [
    "cnn.compile(optimizer='adam',loss='binary_crossentropy',metrics=['accuracy'])"
   ]
  },
  {
   "cell_type": "markdown",
   "metadata": {},
   "source": [
    "### Training the CNN on the Training set and evaluating it on the Test set\n",
    "\n",
    "## P.S \"This may take some time to run\""
   ]
  },
  {
   "cell_type": "code",
   "execution_count": 13,
   "metadata": {},
   "outputs": [
    {
     "name": "stdout",
     "output_type": "stream",
     "text": [
      "WARNING:tensorflow:sample_weight modes were coerced from\n",
      "  ...\n",
      "    to  \n",
      "  ['...']\n",
      "WARNING:tensorflow:sample_weight modes were coerced from\n",
      "  ...\n",
      "    to  \n",
      "  ['...']\n",
      "Train for 163 steps, validate for 20 steps\n",
      "Epoch 1/20\n",
      "163/163 [==============================] - 684s 4s/step - loss: 0.3084 - accuracy: 0.8629 - val_loss: 0.4106 - val_accuracy: 0.8077\n",
      "Epoch 2/20\n",
      "163/163 [==============================] - 221s 1s/step - loss: 0.2114 - accuracy: 0.9172 - val_loss: 0.3257 - val_accuracy: 0.8718\n",
      "Epoch 3/20\n",
      "163/163 [==============================] - 209s 1s/step - loss: 0.1790 - accuracy: 0.9294 - val_loss: 0.4505 - val_accuracy: 0.8189\n",
      "Epoch 4/20\n",
      "163/163 [==============================] - 132s 809ms/step - loss: 0.1739 - accuracy: 0.9298 - val_loss: 0.3607 - val_accuracy: 0.8750\n",
      "Epoch 5/20\n",
      "163/163 [==============================] - 141s 866ms/step - loss: 0.1683 - accuracy: 0.9350 - val_loss: 0.3236 - val_accuracy: 0.9022\n",
      "Epoch 6/20\n",
      "163/163 [==============================] - 129s 791ms/step - loss: 0.1468 - accuracy: 0.9457 - val_loss: 0.3577 - val_accuracy: 0.8830\n",
      "Epoch 7/20\n",
      "163/163 [==============================] - 130s 798ms/step - loss: 0.1550 - accuracy: 0.9387 - val_loss: 0.6669 - val_accuracy: 0.8173\n",
      "Epoch 8/20\n",
      "163/163 [==============================] - 154s 943ms/step - loss: 0.1485 - accuracy: 0.9436 - val_loss: 0.2692 - val_accuracy: 0.9087\n",
      "Epoch 9/20\n",
      "163/163 [==============================] - 132s 808ms/step - loss: 0.1362 - accuracy: 0.9492 - val_loss: 0.4062 - val_accuracy: 0.8718\n",
      "Epoch 10/20\n",
      "163/163 [==============================] - 134s 822ms/step - loss: 0.1249 - accuracy: 0.9534 - val_loss: 0.2998 - val_accuracy: 0.9087\n",
      "Epoch 11/20\n",
      "163/163 [==============================] - 130s 799ms/step - loss: 0.1260 - accuracy: 0.9538 - val_loss: 0.3470 - val_accuracy: 0.8974\n",
      "Epoch 12/20\n",
      "163/163 [==============================] - 129s 788ms/step - loss: 0.1362 - accuracy: 0.9488 - val_loss: 0.4310 - val_accuracy: 0.8830\n",
      "Epoch 13/20\n",
      "163/163 [==============================] - 128s 787ms/step - loss: 0.1270 - accuracy: 0.9519 - val_loss: 0.4565 - val_accuracy: 0.8734\n",
      "Epoch 14/20\n",
      "163/163 [==============================] - 136s 836ms/step - loss: 0.1235 - accuracy: 0.9502 - val_loss: 0.3602 - val_accuracy: 0.8798\n",
      "Epoch 15/20\n",
      "163/163 [==============================] - 142s 869ms/step - loss: 0.1177 - accuracy: 0.9538 - val_loss: 0.2736 - val_accuracy: 0.9183\n",
      "Epoch 16/20\n",
      "163/163 [==============================] - 129s 791ms/step - loss: 0.1152 - accuracy: 0.9597 - val_loss: 0.3591 - val_accuracy: 0.8910\n",
      "Epoch 17/20\n",
      "163/163 [==============================] - 128s 788ms/step - loss: 0.1090 - accuracy: 0.9592 - val_loss: 0.4106 - val_accuracy: 0.8766\n",
      "Epoch 18/20\n",
      "163/163 [==============================] - 128s 785ms/step - loss: 0.0978 - accuracy: 0.9630 - val_loss: 0.4346 - val_accuracy: 0.8798\n",
      "Epoch 19/20\n",
      "163/163 [==============================] - 130s 795ms/step - loss: 0.1102 - accuracy: 0.9597 - val_loss: 0.6268 - val_accuracy: 0.8205\n",
      "Epoch 20/20\n",
      "163/163 [==============================] - 129s 791ms/step - loss: 0.1016 - accuracy: 0.9622 - val_loss: 0.3583 - val_accuracy: 0.8894\n"
     ]
    },
    {
     "data": {
      "text/plain": [
       "<tensorflow.python.keras.callbacks.History at 0x15e2e16afc8>"
      ]
     },
     "execution_count": 13,
     "metadata": {},
     "output_type": "execute_result"
    }
   ],
   "source": [
    "cnn.fit(x=train_set,validation_data=test_set,epochs=20)"
   ]
  },
  {
   "cell_type": "markdown",
   "metadata": {},
   "source": [
    "## Importing a random image and checking our model"
   ]
  },
  {
   "cell_type": "code",
   "execution_count": 14,
   "metadata": {},
   "outputs": [],
   "source": [
    "import numpy as np\n",
    "from keras.preprocessing import image\n",
    "test_image = image.load_img(r'S:\\Kaggle\\Image classifcation\\chest_xray\\test\\NORMAL\\IM-0069-0001.jpeg',target_size=(64,64))\n",
    "test_image = image.img_to_array(test_image)\n",
    "test_image = np.expand_dims(test_image,axis=0)\n",
    "result = cnn.predict(test_image)\n",
    "train_set.class_indices\n",
    "if result[0][0]==1:\n",
    "    prediction= 'pneumonia'\n",
    "else:\n",
    "    prediction = 'no pneumonia'"
   ]
  },
  {
   "cell_type": "code",
   "execution_count": 15,
   "metadata": {},
   "outputs": [
    {
     "name": "stdout",
     "output_type": "stream",
     "text": [
      "no pneumonia\n"
     ]
    }
   ],
   "source": [
    "print(prediction)"
   ]
  },
  {
   "cell_type": "code",
   "execution_count": null,
   "metadata": {},
   "outputs": [],
   "source": []
  }
 ],
 "metadata": {
  "kernelspec": {
   "display_name": "Python 3",
   "language": "python",
   "name": "python3"
  },
  "language_info": {
   "codemirror_mode": {
    "name": "ipython",
    "version": 3
   },
   "file_extension": ".py",
   "mimetype": "text/x-python",
   "name": "python",
   "nbconvert_exporter": "python",
   "pygments_lexer": "ipython3",
   "version": "3.7.4"
  }
 },
 "nbformat": 4,
 "nbformat_minor": 2
}
